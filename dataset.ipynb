{
 "cells": [
  {
   "cell_type": "code",
   "execution_count": 2,
   "metadata": {},
   "outputs": [],
   "source": [
    "import matplotlib.pyplot as plt\n",
    "from tqdm import tqdm_notebook as tqdm\n",
    "import pandas as pd\n",
    "from scipy import stats\n",
    "import numpy as np\n",
    "import seaborn as sns\n",
    "import pickle\n",
    "from random import shuffle\n",
    "from pathlib import Path\n",
    "# if using a Jupyter notebook, includue:\n",
    "%matplotlib inline"
   ]
  },
  {
   "cell_type": "code",
   "execution_count": 3,
   "metadata": {},
   "outputs": [
    {
     "name": "stderr",
     "output_type": "stream",
     "text": [
      "C:\\Users\\choltz\\AppData\\Local\\Continuum\\anaconda3\\lib\\site-packages\\pyarrow\\pandas_compat.py:752: FutureWarning: .labels was deprecated in version 0.24.0. Use .codes instead.\n",
      "  labels, = index.labels\n"
     ]
    }
   ],
   "source": [
    "Data = pd.read_feather('Data.feather')\n",
    "pids = Data['pid'].unique()\n",
    "pid_groups = Data.groupby('pid')\n",
    "meta_covars = ['pid','SepsisLabel']\n",
    "baseline_covars = []\n",
    "lab_covars = []\n",
    "vital_covars = ['HR','O2Sat','Temp','SBP','MAP','DBP', 'Resp']"
   ]
  },
  {
   "cell_type": "code",
   "execution_count": 4,
   "metadata": {},
   "outputs": [
    {
     "data": {
      "text/plain": [
       "Index(['index', 'HR', 'O2Sat', 'Temp', 'SBP', 'MAP', 'DBP', 'Resp', 'EtCO2',\n",
       "       'BaseExcess', 'HCO3', 'FiO2', 'pH', 'PaCO2', 'SaO2', 'AST', 'BUN',\n",
       "       'Alkalinephos', 'Calcium', 'Chloride', 'Creatinine', 'Bilirubin_direct',\n",
       "       'Glucose', 'Lactate', 'Magnesium', 'Phosphate', 'Potassium',\n",
       "       'Bilirubin_total', 'TroponinI', 'Hct', 'Hgb', 'PTT', 'WBC',\n",
       "       'Fibrinogen', 'Platelets', 'Age', 'Gender', 'Unit1', 'Unit2',\n",
       "       'HospAdmTime', 'ICULOS', 'SepsisLabel', 'pid'],\n",
       "      dtype='object')"
      ]
     },
     "execution_count": 4,
     "metadata": {},
     "output_type": "execute_result"
    }
   ],
   "source": [
    "Data.columns"
   ]
  },
  {
   "cell_type": "code",
   "execution_count": 5,
   "metadata": {},
   "outputs": [
    {
     "name": "stdout",
     "output_type": "stream",
     "text": [
      "40336\n",
      "hospital stay length: mean 38.48200119000396 std 22.795923321200572\n"
     ]
    },
    {
     "data": {
      "image/png": "[encoded data removed]",
      "text/plain": [
       "<Figure size 432x288 with 1 Axes>"
      ]
     },
     "metadata": {
      "needs_background": "light"
     },
     "output_type": "display_data"
    }
   ],
   "source": [
    "print(len(pids))\n",
    "sns.distplot(pid_groups.size())\n",
    "print('hospital stay length:', 'mean', pid_groups.size().mean(), 'std',pid_groups.size().std())"
   ]
  },
  {
   "cell_type": "code",
   "execution_count": 6,
   "metadata": {},
   "outputs": [],
   "source": [
    "## prune hospital stay outliers:\n",
    "pids_stay_length = pid_groups.size()\n",
    "pids = pids_stay_length[np.abs(pids_stay_length-pids_stay_length.mean()) <= (3*pids_stay_length.std())]\n",
    "pids = pids_stay_length[pids_stay_length > 7]"
   ]
  },
  {
   "cell_type": "code",
   "execution_count": 7,
   "metadata": {},
   "outputs": [],
   "source": [
    "Data = Data[Data['pid'].isin(pids.index)]"
   ]
  },
  {
   "cell_type": "code",
   "execution_count": 8,
   "metadata": {},
   "outputs": [
    {
     "data": {
      "text/plain": [
       "<matplotlib.axes._subplots.AxesSubplot at 0x183d7059390>"
      ]
     },
     "execution_count": 8,
     "metadata": {},
     "output_type": "execute_result"
    },
    {
     "data": {
      "image/png": "[encoded data removed]",
      "text/plain": [
       "<Figure size 432x288 with 1 Axes>"
      ]
     },
     "metadata": {
      "needs_background": "light"
     },
     "output_type": "display_data"
    }
   ],
   "source": [
    "plt.title(\"Duration of stay\")\n",
    "sns.distplot(Data.groupby('pid').size())"
   ]
  },
  {
   "cell_type": "code",
   "execution_count": 9,
   "metadata": {},
   "outputs": [],
   "source": [
    "## sepsis pids remove those who get into the hospital with sepsis\n",
    "sepsis_pids = (Data.groupby('pid')['SepsisLabel'].sum() > 1)[(Data.groupby('pid')['SepsisLabel'].sum() > 1) == True].index.unique().tolist()\n",
    "non_sepsis_pids = [pid for pid in pids.index if pid not in sepsis_pids]"
   ]
  },
  {
   "cell_type": "code",
   "execution_count": 11,
   "metadata": {},
   "outputs": [
    {
     "data": {
      "text/plain": [
       "2927"
      ]
     },
     "execution_count": 11,
     "metadata": {},
     "output_type": "execute_result"
    }
   ],
   "source": [
    "len(sepsis_pids)"
   ]
  },
  {
   "cell_type": "code",
   "execution_count": null,
   "metadata": {},
   "outputs": [],
   "source": [
    "sns.distplot(Data[Data['pid'].isin(sepsis_pids)].groupby('pid').size())"
   ]
  },
  {
   "cell_type": "code",
   "execution_count": null,
   "metadata": {},
   "outputs": [],
   "source": [
    "sns.distplot(Data[Data['pid'].isin(non_sepsis_pids)].groupby('pid').size())"
   ]
  },
  {
   "cell_type": "code",
   "execution_count": null,
   "metadata": {},
   "outputs": [],
   "source": [
    "print(Data[Data['pid'].isin(sepsis_pids)].groupby('pid').size().mean())\n",
    "print(Data[Data['pid'].isin(sepsis_pids)].groupby('pid').size().std())"
   ]
  },
  {
   "cell_type": "code",
   "execution_count": 13,
   "metadata": {
    "scrolled": true
   },
   "outputs": [
    {
     "name": "stdout",
     "output_type": "stream",
     "text": [
      "36.89646876420113\n",
      "15.870526473682462\n"
     ]
    }
   ],
   "source": [
    "print(Data[Data['pid'].isin(non_sepsis_pids)].groupby('pid').size().mean())\n",
    "print(Data[Data['pid'].isin(non_sepsis_pids)].groupby('pid').size().std())"
   ]
  },
  {
   "cell_type": "code",
   "execution_count": null,
   "metadata": {},
   "outputs": [],
   "source": [
    "print('sepsis:', len(sepsis_pids), 'not sepsis:', len(not_sepsis_pids))"
   ]
  },
  {
   "cell_type": "code",
   "execution_count": null,
   "metadata": {
    "scrolled": true
   },
   "outputs": [],
   "source": [
    "## time to sepsis\n",
    "plt.title(\"Time to sepsis\")\n",
    "sns.distplot(Data[Data.pid.isin(sepsis_pids)].groupby('pid').size() - Data[Data.pid.isin(sepsis_pids)].groupby('pid').SepsisLabel.sum())"
   ]
  },
  {
   "cell_type": "code",
   "execution_count": null,
   "metadata": {},
   "outputs": [],
   "source": [
    "# no sepsis in first 7 days\n",
    "sepsis_pids = (Data[Data.pid.isin(sepsis_pids)].groupby('pid').size() - Data[Data.pid.isin(sepsis_pids)].groupby('pid').SepsisLabel.sum() > 7)[(Data[Data.pid.isin(sepsis_pids)].groupby('pid').size() - Data[Data.pid.isin(sepsis_pids)].groupby('pid').SepsisLabel.sum() > 7)].index.tolist()"
   ]
  },
  {
   "cell_type": "code",
   "execution_count": null,
   "metadata": {},
   "outputs": [],
   "source": [
    "len(non_sepsis_pids)"
   ]
  },
  {
   "cell_type": "code",
   "execution_count": 14,
   "metadata": {},
   "outputs": [],
   "source": [
    "Data = Data[Data.pid.isin(sepsis_pids + non_sepsis_pids)]"
   ]
  },
  {
   "cell_type": "code",
   "execution_count": null,
   "metadata": {},
   "outputs": [],
   "source": [
    "## duration of sepsis\n",
    "plt.title(\"Duration of sepsis\")\n",
    "sns.distplot(Data[Data.pid.isin(sepsis_pids)].groupby('pid').SepsisLabel.sum())"
   ]
  },
  {
   "cell_type": "code",
   "execution_count": null,
   "metadata": {},
   "outputs": [],
   "source": [
    "## plots of sepsis cases vital covariates\n",
    "(Data[Data['pid'] == sepsis_pids[3]]['SepsisLabel']*10).plot()\n",
    "Data[Data['pid'] == sepsis_pids[3]][vital_covars + ['SepsisLabel']].plot()"
   ]
  },
  {
   "cell_type": "code",
   "execution_count": null,
   "metadata": {},
   "outputs": [],
   "source": [
    "train_sample = Data.sample(frac=0.01)\n",
    "plt.figure(figsize=(10,5))\n",
    "plt.title(\"Distribution\")\n",
    "ax = sns.distplot(train_sample['HR'].dropna(), label='HR', kde=False, fit=stats.norm)\n",
    "ax = sns.distplot(train_sample['Temp'].dropna(), label='TEMP', kde=False, fit=stats.norm)\n",
    "ax = sns.distplot(train_sample['O2Sat'].dropna(), label='O2SAT)', kde=False, fit=stats.norm)\n",
    "ax = sns.distplot(train_sample['MAP'].dropna(), label='MAP', kde=False, fit=stats.norm)\n",
    "ax = sns.distplot(train_sample['DBP'].dropna(), label='DBP', kde=False, fit=stats.norm)\n",
    "ax = sns.distplot(train_sample['SBP'].dropna(), label='SBP', kde=False, fit=stats.norm)\n",
    "ax.legend()"
   ]
  },
  {
   "cell_type": "code",
   "execution_count": null,
   "metadata": {},
   "outputs": [],
   "source": [
    "Data.isnull().sum()/Data.shape[0]"
   ]
  },
  {
   "cell_type": "code",
   "execution_count": 15,
   "metadata": {},
   "outputs": [
    {
     "ename": "NameError",
     "evalue": "name 'ignore' is not defined",
     "output_type": "error",
     "traceback": [
      "\u001b[1;31m---------------------------------------------------------------------------\u001b[0m",
      "\u001b[1;31mNameError\u001b[0m                                 Traceback (most recent call last)",
      "\u001b[1;32m<ipython-input-15-67e725295e81>\u001b[0m in \u001b[0;36m<module>\u001b[1;34m\u001b[0m\n\u001b[0;32m      7\u001b[0m \u001b[0midx_covars\u001b[0m \u001b[1;33m=\u001b[0m \u001b[1;33m[\u001b[0m\u001b[1;34m'pid'\u001b[0m\u001b[1;33m]\u001b[0m\u001b[1;33m\u001b[0m\u001b[1;33m\u001b[0m\u001b[0m\n\u001b[0;32m      8\u001b[0m \u001b[0mbaseline_covars\u001b[0m \u001b[1;33m=\u001b[0m \u001b[1;33m[\u001b[0m\u001b[1;34m'Age'\u001b[0m\u001b[1;33m,\u001b[0m \u001b[1;34m'Gender'\u001b[0m\u001b[1;33m,\u001b[0m \u001b[1;34m'ICULOS'\u001b[0m\u001b[1;33m]\u001b[0m\u001b[1;33m\u001b[0m\u001b[1;33m\u001b[0m\u001b[0m\n\u001b[1;32m----> 9\u001b[1;33m \u001b[0mlab_covars\u001b[0m \u001b[1;33m=\u001b[0m \u001b[1;33m[\u001b[0m\u001b[0mcol\u001b[0m \u001b[1;32mfor\u001b[0m \u001b[0mcol\u001b[0m \u001b[1;32min\u001b[0m \u001b[0mcolumns\u001b[0m \u001b[1;32mif\u001b[0m \u001b[0mcol\u001b[0m \u001b[1;32mnot\u001b[0m \u001b[1;32min\u001b[0m \u001b[0mignore\u001b[0m \u001b[1;33m+\u001b[0m \u001b[0mlabel\u001b[0m \u001b[1;33m+\u001b[0m \u001b[0mvital_covars\u001b[0m \u001b[1;33m+\u001b[0m \u001b[0midx_covars\u001b[0m \u001b[1;33m+\u001b[0m \u001b[0mbaseline_covars\u001b[0m\u001b[1;33m]\u001b[0m\u001b[1;33m\u001b[0m\u001b[1;33m\u001b[0m\u001b[0m\n\u001b[0m",
      "\u001b[1;32m<ipython-input-15-67e725295e81>\u001b[0m in \u001b[0;36m<listcomp>\u001b[1;34m(.0)\u001b[0m\n\u001b[0;32m      7\u001b[0m \u001b[0midx_covars\u001b[0m \u001b[1;33m=\u001b[0m \u001b[1;33m[\u001b[0m\u001b[1;34m'pid'\u001b[0m\u001b[1;33m]\u001b[0m\u001b[1;33m\u001b[0m\u001b[1;33m\u001b[0m\u001b[0m\n\u001b[0;32m      8\u001b[0m \u001b[0mbaseline_covars\u001b[0m \u001b[1;33m=\u001b[0m \u001b[1;33m[\u001b[0m\u001b[1;34m'Age'\u001b[0m\u001b[1;33m,\u001b[0m \u001b[1;34m'Gender'\u001b[0m\u001b[1;33m,\u001b[0m \u001b[1;34m'ICULOS'\u001b[0m\u001b[1;33m]\u001b[0m\u001b[1;33m\u001b[0m\u001b[1;33m\u001b[0m\u001b[0m\n\u001b[1;32m----> 9\u001b[1;33m \u001b[0mlab_covars\u001b[0m \u001b[1;33m=\u001b[0m \u001b[1;33m[\u001b[0m\u001b[0mcol\u001b[0m \u001b[1;32mfor\u001b[0m \u001b[0mcol\u001b[0m \u001b[1;32min\u001b[0m \u001b[0mcolumns\u001b[0m \u001b[1;32mif\u001b[0m \u001b[0mcol\u001b[0m \u001b[1;32mnot\u001b[0m \u001b[1;32min\u001b[0m \u001b[0mignore\u001b[0m \u001b[1;33m+\u001b[0m \u001b[0mlabel\u001b[0m \u001b[1;33m+\u001b[0m \u001b[0mvital_covars\u001b[0m \u001b[1;33m+\u001b[0m \u001b[0midx_covars\u001b[0m \u001b[1;33m+\u001b[0m \u001b[0mbaseline_covars\u001b[0m\u001b[1;33m]\u001b[0m\u001b[1;33m\u001b[0m\u001b[1;33m\u001b[0m\u001b[0m\n\u001b[0m",
      "\u001b[1;31mNameError\u001b[0m: name 'ignore' is not defined"
     ]
    }
   ],
   "source": [
    "# parse covars - remove index, Unit1, Unit2, HospAdmTime\n",
    "columns = Data.columns.tolist()\n",
    "ignored_covars = ['Unit1', 'Unit2', 'HospAdmTime', 'index']\n",
    "\n",
    "label = ['SepsisLabel']\n",
    "vital_covars = ['HR','O2Sat','Temp','SBP','MAP','DBP', 'Resp']\n",
    "idx_covars = ['pid']\n",
    "baseline_covars = ['Age', 'Gender', 'ICULOS']\n",
    "lab_covars = [col for col in columns if col not in ignore + label + vital_covars + idx_covars + baseline_covars]"
   ]
  },
  {
   "cell_type": "code",
   "execution_count": 27,
   "metadata": {},
   "outputs": [],
   "source": [
    "class Dataset:\n",
    "    def __init__(self):\n",
    "        self.groups = {}\n",
    "        self.sepsis_pids = []\n",
    "        self.non_sepsis_pids = []\n",
    "        for group_name in ('train', 'val', 'test'):\n",
    "            self.groups[group_name] = {\n",
    "                \"pid_list\": [],\n",
    "                \"vital_features_list\": [],\n",
    "                \"baseline_features_list\": [],\n",
    "                \"lab_features_list\": [],\n",
    "                \"ignored_features_list\": [],\n",
    "                \"labels_list\": []\n",
    "            }\n",
    "        \n",
    "    @classmethod\n",
    "    def generate_pid_split(cls, data, split, balance_tr_data = False, sepisis_pids=None, non_sepsis_pids=None):\n",
    "        # balance data by undersampling non-sepsis cases\n",
    "        # split given as int\n",
    "        self = cls()\n",
    "        pids = data.pid.unique().tolist()\n",
    "        shuffle(pids)\n",
    "        if balance_tr_data:\n",
    "            #sepisis_pids, non_sepsis_pids = pids\n",
    "            spl = int(split * len(sepisis_pids))\n",
    "            tst_pids = sepisis_pids[:spl]\n",
    "            #val_pids = sepisis_pids[spl:2*spl]\n",
    "            val_pids = []\n",
    "            tr_pids = sepisis_pids[spl:]\n",
    "            \n",
    "            tst_pids.append(non_sepsis_pids[:spl])\n",
    "            #val_pids.extend(non_sepsis_pids[spl:2*spl])\n",
    "            tr_pids.extend(non_sepsis_pids[2*spl:2*spl+int(len(tr_pids)*1.5)])\n",
    "            \n",
    "        else:\n",
    "            spl = int(split * len(pids))\n",
    "            tst_pids = pids[:spl]\n",
    "            val_pids = pids[spl:2*spl]\n",
    "            tr_pids = pids[2*spl:]\n",
    "        \n",
    "        pid_grouped_data = data.groupby('pid')\n",
    "        for pid, group in tqdm(pid_grouped_data, desc='splitting data...'):\n",
    "            if pid in tr_pids:\n",
    "                self.groups['train']['pid_list'].append(pid)\n",
    "                self.groups['train']['vital_features_list'].append(group[vital_covars])\n",
    "                self.groups['train']['baseline_features_list'].append(group[baseline_covars])\n",
    "                self.groups['train']['lab_features_list'].append(group[lab_covars])\n",
    "                self.groups['train']['ignored_features_list'].append(group[ignored_covars])\n",
    "                self.groups['train']['labels_list'].append(group[label])\n",
    "            elif pid in val_pids:\n",
    "                self.groups['val']['pid_list'].append(pid)\n",
    "                self.groups['val']['vital_features_list'].append(group[vital_covars])\n",
    "                self.groups['val']['baseline_features_list'].append(group[baseline_covars])\n",
    "                self.groups['val']['lab_features_list'].append(group[lab_covars])\n",
    "                self.groups['val']['ignored_features_list'].append(group[ignored_covars])\n",
    "                self.groups['val']['labels_list'].append(group[label])\n",
    "            elif pid in tst_pids:\n",
    "                self.groups['test']['pid_list'].append(pid)\n",
    "                self.groups['test']['vital_features_list'].append(group[vital_covars])\n",
    "                self.groups['test']['baseline_features_list'].append(group[baseline_covars])\n",
    "                self.groups['test']['lab_features_list'].append(group[lab_covars])\n",
    "                self.groups['test']['ignored_features_list'].append(group[ignored_covars])\n",
    "                self.groups['test']['labels_list'].append(group[label])\n",
    "        return self\n",
    "    \n",
    "    @classmethod\n",
    "    def load(cls, filepath):\n",
    "        filepath = Path(filepath)\n",
    "        with filepath.open('rb') as f:\n",
    "            return pickle.load(f)\n",
    "        \n",
    "    def save(self, filepath):\n",
    "        filepath = Path(filepath)\n",
    "        if filepath.exists():\n",
    "            raise FileExistsError(f\"cannot write dataset to '{filepath}'; file exists\")\n",
    "        \n",
    "        with filepath.open('wb') as f:\n",
    "            pickle.dump(self, f)\n"
   ]
  },
  {
   "cell_type": "code",
   "execution_count": 28,
   "metadata": {},
   "outputs": [],
   "source": [
    "dataset = Dataset()"
   ]
  },
  {
   "cell_type": "code",
   "execution_count": 21,
   "metadata": {},
   "outputs": [],
   "source": [
    "dataset.sepsis_pids = sepsis_pids\n",
    "dataset.non_sepsis_pids = non_sepsis_pids"
   ]
  },
  {
   "cell_type": "code",
   "execution_count": 29,
   "metadata": {},
   "outputs": [
    {
     "data": {
      "text/plain": [
       "37409"
      ]
     },
     "execution_count": 29,
     "metadata": {},
     "output_type": "execute_result"
    }
   ],
   "source": [
    "len(non_sepsis_pids)"
   ]
  },
  {
   "cell_type": "code",
   "execution_count": 30,
   "metadata": {},
   "outputs": [
    {
     "data": {
      "application/vnd.jupyter.widget-view+json": {
       "model_id": "f0cf72df5e8340d7bbe43ce97fe65fac",
       "version_major": 2,
       "version_minor": 0
      },
      "text/plain": [
       "HBox(children=(IntProgress(value=0, description='splitting data...', max=40336, style=ProgressStyle(descriptio…"
      ]
     },
     "metadata": {},
     "output_type": "display_data"
    },
    {
     "name": "stdout",
     "output_type": "stream",
     "text": [
      "\n"
     ]
    }
   ],
   "source": [
    "dataset = dataset.generate_pid_split(Data, 0.1, True, sepsis_pids, non_sepsis_pids)\n",
    "dataset.save(\"./dataset_balanced.gpickle\")"
   ]
  },
  {
   "cell_type": "code",
   "execution_count": null,
   "metadata": {},
   "outputs": [],
   "source": [
    "len(Data.pid.unique())"
   ]
  },
  {
   "cell_type": "code",
   "execution_count": null,
   "metadata": {},
   "outputs": [],
   "source": []
  },
  {
   "cell_type": "code",
   "execution_count": null,
   "metadata": {},
   "outputs": [],
   "source": []
  }
 ],
 "metadata": {
  "kernelspec": {
   "display_name": "Python 3",
   "language": "python",
   "name": "python3"
  },
  "language_info": {
   "codemirror_mode": {
    "name": "ipython",
    "version": 3
   },
   "file_extension": ".py",
   "mimetype": "text/x-python",
   "name": "python",
   "nbconvert_exporter": "python",
   "pygments_lexer": "ipython3",
   "version": "3.7.3"
  }
 },
 "nbformat": 4,
 "nbformat_minor": 2
}
